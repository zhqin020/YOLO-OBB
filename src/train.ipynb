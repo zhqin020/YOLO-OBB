{
 "cells": [
  {
   "cell_type": "code",
   "execution_count": null,
   "id": "7151a346",
   "metadata": {},
   "outputs": [],
   "source": [
    "!pip install ultralytics"
   ]
  },
  {
   "cell_type": "code",
   "execution_count": 2,
   "id": "e3e47fec",
   "metadata": {},
   "outputs": [],
   "source": [
    "import os\n",
    "os.environ[\"KMP_DUPLICATE_LIB_OK\"] = \"TRUE\""
   ]
  },
  {
   "cell_type": "markdown",
   "id": "865c64da",
   "metadata": {},
   "source": [
    "## 模型训练\n"
   ]
  },
  {
   "cell_type": "code",
   "execution_count": 3,
   "id": "78eef5d5",
   "metadata": {},
   "outputs": [
    {
     "name": "stdout",
     "output_type": "stream",
     "text": [
      "Ultralytics 8.3.161  Python-3.12.7 torch-2.7.1+cpu CPU (Intel Core(TM) i7-7700HQ 2.80GHz)\n",
      "\u001b[34m\u001b[1mengine\\trainer: \u001b[0magnostic_nms=False, amp=True, augment=False, auto_augment=randaugment, batch=16, bgr=0.0, box=7.5, cache=False, cfg=None, classes=None, close_mosaic=10, cls=0.5, conf=None, copy_paste=0.0, copy_paste_mode=flip, cos_lr=False, cutmix=0.0, data=../data/dataset.yaml, degrees=0.0, deterministic=True, device=cpu, dfl=1.5, dnn=False, dropout=0.0, dynamic=False, embed=None, epochs=5, erasing=0.4, exist_ok=False, fliplr=0.5, flipud=0.0, format=torchscript, fraction=1.0, freeze=None, half=False, hsv_h=0.015, hsv_s=0.7, hsv_v=0.4, imgsz=1024, int8=False, iou=0.7, keras=False, kobj=1.0, line_width=None, lr0=0.01, lrf=0.01, mask_ratio=4, max_det=300, mixup=0.0, mode=train, model=../models/yolo11n-obb.pt, momentum=0.937, mosaic=1.0, multi_scale=False, name=train9, nbs=64, nms=False, opset=None, optimize=False, optimizer=auto, overlap_mask=True, patience=100, perspective=0.0, plots=True, pose=12.0, pretrained=True, profile=False, project=None, rect=False, resume=False, retina_masks=False, save=True, save_conf=False, save_crop=False, save_dir=runs\\obb\\train9, save_frames=False, save_json=False, save_period=-1, save_txt=False, scale=0.5, seed=0, shear=0.0, show=False, show_boxes=True, show_conf=True, show_labels=True, simplify=True, single_cls=False, source=None, split=val, stream_buffer=False, task=obb, time=None, tracker=botsort.yaml, translate=0.1, val=True, verbose=True, vid_stride=1, visualize=False, warmup_bias_lr=0.1, warmup_epochs=3.0, warmup_momentum=0.8, weight_decay=0.0005, workers=8, workspace=None\n",
      "Overriding model.yaml nc=80 with nc=9\n",
      "\n",
      "                   from  n    params  module                                       arguments                     \n",
      "  0                  -1  1       464  ultralytics.nn.modules.conv.Conv             [3, 16, 3, 2]                 \n",
      "  1                  -1  1      4672  ultralytics.nn.modules.conv.Conv             [16, 32, 3, 2]                \n",
      "  2                  -1  1      6640  ultralytics.nn.modules.block.C3k2            [32, 64, 1, False, 0.25]      \n",
      "  3                  -1  1     36992  ultralytics.nn.modules.conv.Conv             [64, 64, 3, 2]                \n",
      "  4                  -1  1     26080  ultralytics.nn.modules.block.C3k2            [64, 128, 1, False, 0.25]     \n",
      "  5                  -1  1    147712  ultralytics.nn.modules.conv.Conv             [128, 128, 3, 2]              \n",
      "  6                  -1  1     87040  ultralytics.nn.modules.block.C3k2            [128, 128, 1, True]           \n",
      "  7                  -1  1    295424  ultralytics.nn.modules.conv.Conv             [128, 256, 3, 2]              \n",
      "  8                  -1  1    346112  ultralytics.nn.modules.block.C3k2            [256, 256, 1, True]           \n",
      "  9                  -1  1    164608  ultralytics.nn.modules.block.SPPF            [256, 256, 5]                 \n",
      " 10                  -1  1    249728  ultralytics.nn.modules.block.C2PSA           [256, 256, 1]                 \n",
      " 11                  -1  1         0  torch.nn.modules.upsampling.Upsample         [None, 2, 'nearest']          \n",
      " 12             [-1, 6]  1         0  ultralytics.nn.modules.conv.Concat           [1]                           \n",
      " 13                  -1  1    111296  ultralytics.nn.modules.block.C3k2            [384, 128, 1, False]          \n",
      " 14                  -1  1         0  torch.nn.modules.upsampling.Upsample         [None, 2, 'nearest']          \n",
      " 15             [-1, 4]  1         0  ultralytics.nn.modules.conv.Concat           [1]                           \n",
      " 16                  -1  1     32096  ultralytics.nn.modules.block.C3k2            [256, 64, 1, False]           \n",
      " 17                  -1  1     36992  ultralytics.nn.modules.conv.Conv             [64, 64, 3, 2]                \n",
      " 18            [-1, 13]  1         0  ultralytics.nn.modules.conv.Concat           [1]                           \n",
      " 19                  -1  1     86720  ultralytics.nn.modules.block.C3k2            [192, 128, 1, False]          \n",
      " 20                  -1  1    147712  ultralytics.nn.modules.conv.Conv             [128, 128, 3, 2]              \n",
      " 21            [-1, 10]  1         0  ultralytics.nn.modules.conv.Concat           [1]                           \n",
      " 22                  -1  1    378880  ultralytics.nn.modules.block.C3k2            [384, 256, 1, True]           \n",
      " 23        [16, 19, 22]  1    504094  ultralytics.nn.modules.head.OBB              [9, 1, [64, 128, 256]]        \n",
      "YOLO11n-obb summary: 196 layers, 2,663,262 parameters, 2,663,246 gradients, 6.7 GFLOPs\n",
      "\n",
      "Transferred 535/541 items from pretrained weights\n",
      "Freezing layer 'model.23.dfl.conv.weight'\n",
      "\u001b[34m\u001b[1mtrain: \u001b[0mFast image access  (ping: 0.00.0 ms, read: 1116.7422.6 MB/s, size: 666.8 KB)\n"
     ]
    },
    {
     "name": "stderr",
     "output_type": "stream",
     "text": [
      "\u001b[34m\u001b[1mtrain: \u001b[0mScanning E:\\Work\\zq\\202506\\YOLO-OBB\\data\\labels\\train.cache... 7 images, 7 backgrounds, 0 corrupt: 100%|██████████| 14/14 [00:00<?, ?it/s]"
     ]
    },
    {
     "name": "stdout",
     "output_type": "stream",
     "text": [
      "\u001b[34m\u001b[1mval: \u001b[0mFast image access  (ping: 0.00.0 ms, read: 1416.2136.4 MB/s, size: 661.8 KB)\n"
     ]
    },
    {
     "name": "stderr",
     "output_type": "stream",
     "text": [
      "\n",
      "d:\\Users\\zwd\\anaconda3\\Lib\\site-packages\\torch\\utils\\data\\dataloader.py:665: UserWarning: 'pin_memory' argument is set as true but no accelerator is found, then device pinned memory won't be used.\n",
      "  warnings.warn(warn_msg)\n",
      "\u001b[34m\u001b[1mval: \u001b[0mScanning E:\\Work\\zq\\202506\\YOLO-OBB\\data\\labels\\val.cache... 4 images, 0 backgrounds, 0 corrupt: 100%|██████████| 4/4 [00:00<?, ?it/s]\n",
      "d:\\Users\\zwd\\anaconda3\\Lib\\site-packages\\torch\\utils\\data\\dataloader.py:665: UserWarning: 'pin_memory' argument is set as true but no accelerator is found, then device pinned memory won't be used.\n",
      "  warnings.warn(warn_msg)\n"
     ]
    },
    {
     "name": "stdout",
     "output_type": "stream",
     "text": [
      "Plotting labels to runs\\obb\\train9\\labels.jpg... \n",
      "\u001b[34m\u001b[1moptimizer:\u001b[0m 'optimizer=auto' found, ignoring 'lr0=0.01' and 'momentum=0.937' and determining best 'optimizer', 'lr0' and 'momentum' automatically... \n",
      "\u001b[34m\u001b[1moptimizer:\u001b[0m AdamW(lr=0.000769, momentum=0.9) with parameter groups 87 weight(decay=0.0), 97 weight(decay=0.0005), 96 bias(decay=0.0)\n",
      "Image sizes 1024 train, 1024 val\n",
      "Using 0 dataloader workers\n",
      "Logging results to \u001b[1mruns\\obb\\train9\u001b[0m\n",
      "Starting training for 5 epochs...\n",
      "\n",
      "      Epoch    GPU_mem   box_loss   cls_loss   dfl_loss  Instances       Size\n"
     ]
    },
    {
     "name": "stderr",
     "output_type": "stream",
     "text": [
      "        1/5         0G      2.033      5.656      2.243        168       1024: 100%|██████████| 1/1 [00:28<00:00, 28.02s/it]\n",
      "                 Class     Images  Instances      Box(P          R      mAP50  mAP50-95): 100%|██████████| 1/1 [00:04<00:00,  4.27s/it]"
     ]
    },
    {
     "name": "stdout",
     "output_type": "stream",
     "text": [
      "                   all          4         71     0.0303     0.0667     0.0253    0.00253\n"
     ]
    },
    {
     "name": "stderr",
     "output_type": "stream",
     "text": [
      "\n"
     ]
    },
    {
     "name": "stdout",
     "output_type": "stream",
     "text": [
      "\n",
      "      Epoch    GPU_mem   box_loss   cls_loss   dfl_loss  Instances       Size\n"
     ]
    },
    {
     "name": "stderr",
     "output_type": "stream",
     "text": [
      "        2/5         0G      1.981      5.232      2.187        211       1024: 100%|██████████| 1/1 [00:20<00:00, 20.32s/it]\n",
      "                 Class     Images  Instances      Box(P          R      mAP50  mAP50-95): 100%|██████████| 1/1 [00:01<00:00,  1.32s/it]"
     ]
    },
    {
     "name": "stdout",
     "output_type": "stream",
     "text": [
      "                   all          4         71     0.0366     0.0667     0.0285    0.00285\n"
     ]
    },
    {
     "name": "stderr",
     "output_type": "stream",
     "text": [
      "\n"
     ]
    },
    {
     "name": "stdout",
     "output_type": "stream",
     "text": [
      "\n",
      "      Epoch    GPU_mem   box_loss   cls_loss   dfl_loss  Instances       Size\n"
     ]
    },
    {
     "name": "stderr",
     "output_type": "stream",
     "text": [
      "        3/5         0G      2.073      5.353      2.515        205       1024: 100%|██████████| 1/1 [00:22<00:00, 22.45s/it]\n",
      "                 Class     Images  Instances      Box(P          R      mAP50  mAP50-95): 100%|██████████| 1/1 [00:01<00:00,  1.43s/it]"
     ]
    },
    {
     "name": "stdout",
     "output_type": "stream",
     "text": [
      "                   all          4         71      0.374     0.0667     0.0285    0.00285\n"
     ]
    },
    {
     "name": "stderr",
     "output_type": "stream",
     "text": [
      "\n"
     ]
    },
    {
     "name": "stdout",
     "output_type": "stream",
     "text": [
      "\n",
      "      Epoch    GPU_mem   box_loss   cls_loss   dfl_loss  Instances       Size\n"
     ]
    },
    {
     "name": "stderr",
     "output_type": "stream",
     "text": [
      "        4/5         0G      1.956      5.127      2.566        210       1024: 100%|██████████| 1/1 [00:22<00:00, 22.67s/it]\n",
      "                 Class     Images  Instances      Box(P          R      mAP50  mAP50-95): 100%|██████████| 1/1 [00:01<00:00,  1.29s/it]"
     ]
    },
    {
     "name": "stdout",
     "output_type": "stream",
     "text": [
      "                   all          4         71      0.378     0.0667     0.0291    0.00452\n"
     ]
    },
    {
     "name": "stderr",
     "output_type": "stream",
     "text": [
      "\n"
     ]
    },
    {
     "name": "stdout",
     "output_type": "stream",
     "text": [
      "\n",
      "      Epoch    GPU_mem   box_loss   cls_loss   dfl_loss  Instances       Size\n"
     ]
    },
    {
     "name": "stderr",
     "output_type": "stream",
     "text": [
      "        5/5         0G      2.066      5.016      2.543        274       1024: 100%|██████████| 1/1 [00:21<00:00, 21.69s/it]\n",
      "                 Class     Images  Instances      Box(P          R      mAP50  mAP50-95): 100%|██████████| 1/1 [00:01<00:00,  1.17s/it]"
     ]
    },
    {
     "name": "stdout",
     "output_type": "stream",
     "text": [
      "                   all          4         71      0.374     0.0667     0.0272    0.00502\n"
     ]
    },
    {
     "name": "stderr",
     "output_type": "stream",
     "text": [
      "\n"
     ]
    },
    {
     "name": "stdout",
     "output_type": "stream",
     "text": [
      "\n",
      "5 epochs completed in 0.036 hours.\n",
      "Optimizer stripped from runs\\obb\\train9\\weights\\last.pt, 5.9MB\n",
      "Optimizer stripped from runs\\obb\\train9\\weights\\best.pt, 5.9MB\n",
      "\n",
      "Validating runs\\obb\\train9\\weights\\best.pt...\n",
      "Ultralytics 8.3.161  Python-3.12.7 torch-2.7.1+cpu CPU (Intel Core(TM) i7-7700HQ 2.80GHz)\n",
      "YOLO11n-obb summary (fused): 109 layers, 2,655,478 parameters, 0 gradients, 6.6 GFLOPs\n"
     ]
    },
    {
     "name": "stderr",
     "output_type": "stream",
     "text": [
      "                 Class     Images  Instances      Box(P          R      mAP50  mAP50-95): 100%|██████████| 1/1 [00:01<00:00,  1.07s/it]\n"
     ]
    },
    {
     "name": "stdout",
     "output_type": "stream",
     "text": [
      "                   all          4         71      0.375     0.0667     0.0272    0.00502\n",
      "         small-vehicle          4         59          1          0          0          0\n",
      "articulated-truck-tractor          3          5      0.124        0.2     0.0679    0.00679\n",
      "           rigid-truck          4          7          0          0     0.0138    0.00827\n",
      "Speed: 5.7ms preprocess, 212.6ms inference, 0.0ms loss, 3.1ms postprocess per image\n",
      "Results saved to \u001b[1mruns\\obb\\train9\u001b[0m\n"
     ]
    }
   ],
   "source": [
    "from ultralytics import YOLO\n",
    "import traceback\n",
    "\n",
    "MODEL_FILE = \"../models/yolo11n-obb.pt\"\n",
    "DATASET_YAML = \"../data/dataset.yaml\"\n",
    "epochs = 5\n",
    "\n",
    "\n",
    "try:\n",
    "    # Load a model\n",
    "    model = YOLO(MODEL_FILE)   \n",
    "    results = model.train(\n",
    "        #imgsz=1920,\n",
    "            data=DATASET_YAML, # your dataset.yaml\n",
    "            epochs=epochs,\n",
    "            device=\"cpu\"  # 指定使用CPU训练\n",
    "        )\n",
    "except Exception as e: \n",
    "    print(f\"[YOLO] error:{traceback.format_exc()} \\n {e}\") \n"
   ]
  },
  {
   "cell_type": "markdown",
   "id": "4278d106",
   "metadata": {},
   "source": [
    "## 预测\n",
    "\n",
    "作用：对每一帧（图片或视频）单独进行目标检测，输出每一帧中所有目标的位置、类别和置信度。\n",
    "\n",
    "结果：每一帧的检测结果互不关联，无法知道同一个目标在不同帧中的“身份”。\n",
    "\n",
    "适用场景：只关心每一帧的检测结果，不需要知道目标的运动轨迹或身份。"
   ]
  },
  {
   "cell_type": "code",
   "execution_count": 4,
   "id": "9b60b47e",
   "metadata": {},
   "outputs": [
    {
     "name": "stdout",
     "output_type": "stream",
     "text": [
      "\n",
      "WARNING \n",
      "inference results will accumulate in RAM unless `stream=True` is passed, causing potential out-of-memory\n",
      "errors for large sources or long-running streams and videos. See https://docs.ultralytics.com/modes/predict/ for help.\n",
      "\n",
      "Example:\n",
      "    results = model(source=..., stream=True)  # generator of Results objects\n",
      "    for r in results:\n",
      "        boxes = r.boxes  # Boxes object for bbox outputs\n",
      "        masks = r.masks  # Masks object for segment masks outputs\n",
      "        probs = r.probs  # Class probabilities for classification outputs\n",
      "\n",
      "video 1/1 (frame 1/93) e:\\Work\\zq\\202506\\YOLO-OBB\\src\\..\\data\\videos\\0-DJI_20230427182506_0004_S.MP4: 576x1024 (no detections), 240.1ms\n",
      "video 1/1 (frame 2/93) e:\\Work\\zq\\202506\\YOLO-OBB\\src\\..\\data\\videos\\0-DJI_20230427182506_0004_S.MP4: 576x1024 (no detections), 340.9ms\n",
      "video 1/1 (frame 3/93) e:\\Work\\zq\\202506\\YOLO-OBB\\src\\..\\data\\videos\\0-DJI_20230427182506_0004_S.MP4: 576x1024 (no detections), 178.2ms\n",
      "video 1/1 (frame 4/93) e:\\Work\\zq\\202506\\YOLO-OBB\\src\\..\\data\\videos\\0-DJI_20230427182506_0004_S.MP4: 576x1024 (no detections), 175.7ms\n",
      "video 1/1 (frame 5/93) e:\\Work\\zq\\202506\\YOLO-OBB\\src\\..\\data\\videos\\0-DJI_20230427182506_0004_S.MP4: 576x1024 (no detections), 175.6ms\n",
      "video 1/1 (frame 6/93) e:\\Work\\zq\\202506\\YOLO-OBB\\src\\..\\data\\videos\\0-DJI_20230427182506_0004_S.MP4: 576x1024 (no detections), 308.4ms\n",
      "video 1/1 (frame 7/93) e:\\Work\\zq\\202506\\YOLO-OBB\\src\\..\\data\\videos\\0-DJI_20230427182506_0004_S.MP4: 576x1024 (no detections), 200.0ms\n",
      "video 1/1 (frame 8/93) e:\\Work\\zq\\202506\\YOLO-OBB\\src\\..\\data\\videos\\0-DJI_20230427182506_0004_S.MP4: 576x1024 (no detections), 176.5ms\n",
      "video 1/1 (frame 9/93) e:\\Work\\zq\\202506\\YOLO-OBB\\src\\..\\data\\videos\\0-DJI_20230427182506_0004_S.MP4: 576x1024 (no detections), 182.9ms\n",
      "video 1/1 (frame 10/93) e:\\Work\\zq\\202506\\YOLO-OBB\\src\\..\\data\\videos\\0-DJI_20230427182506_0004_S.MP4: 576x1024 (no detections), 177.3ms\n",
      "video 1/1 (frame 11/93) e:\\Work\\zq\\202506\\YOLO-OBB\\src\\..\\data\\videos\\0-DJI_20230427182506_0004_S.MP4: 576x1024 (no detections), 172.1ms\n",
      "video 1/1 (frame 12/93) e:\\Work\\zq\\202506\\YOLO-OBB\\src\\..\\data\\videos\\0-DJI_20230427182506_0004_S.MP4: 576x1024 (no detections), 172.8ms\n",
      "video 1/1 (frame 13/93) e:\\Work\\zq\\202506\\YOLO-OBB\\src\\..\\data\\videos\\0-DJI_20230427182506_0004_S.MP4: 576x1024 (no detections), 170.6ms\n",
      "video 1/1 (frame 14/93) e:\\Work\\zq\\202506\\YOLO-OBB\\src\\..\\data\\videos\\0-DJI_20230427182506_0004_S.MP4: 576x1024 (no detections), 180.1ms\n",
      "video 1/1 (frame 15/93) e:\\Work\\zq\\202506\\YOLO-OBB\\src\\..\\data\\videos\\0-DJI_20230427182506_0004_S.MP4: 576x1024 (no detections), 174.7ms\n",
      "video 1/1 (frame 16/93) e:\\Work\\zq\\202506\\YOLO-OBB\\src\\..\\data\\videos\\0-DJI_20230427182506_0004_S.MP4: 576x1024 (no detections), 177.4ms\n",
      "video 1/1 (frame 17/93) e:\\Work\\zq\\202506\\YOLO-OBB\\src\\..\\data\\videos\\0-DJI_20230427182506_0004_S.MP4: 576x1024 (no detections), 183.6ms\n",
      "video 1/1 (frame 18/93) e:\\Work\\zq\\202506\\YOLO-OBB\\src\\..\\data\\videos\\0-DJI_20230427182506_0004_S.MP4: 576x1024 (no detections), 174.9ms\n",
      "video 1/1 (frame 19/93) e:\\Work\\zq\\202506\\YOLO-OBB\\src\\..\\data\\videos\\0-DJI_20230427182506_0004_S.MP4: 576x1024 (no detections), 182.2ms\n",
      "video 1/1 (frame 20/93) e:\\Work\\zq\\202506\\YOLO-OBB\\src\\..\\data\\videos\\0-DJI_20230427182506_0004_S.MP4: 576x1024 (no detections), 184.8ms\n",
      "video 1/1 (frame 21/93) e:\\Work\\zq\\202506\\YOLO-OBB\\src\\..\\data\\videos\\0-DJI_20230427182506_0004_S.MP4: 576x1024 (no detections), 179.9ms\n",
      "video 1/1 (frame 22/93) e:\\Work\\zq\\202506\\YOLO-OBB\\src\\..\\data\\videos\\0-DJI_20230427182506_0004_S.MP4: 576x1024 (no detections), 193.5ms\n",
      "video 1/1 (frame 23/93) e:\\Work\\zq\\202506\\YOLO-OBB\\src\\..\\data\\videos\\0-DJI_20230427182506_0004_S.MP4: 576x1024 (no detections), 192.5ms\n",
      "video 1/1 (frame 24/93) e:\\Work\\zq\\202506\\YOLO-OBB\\src\\..\\data\\videos\\0-DJI_20230427182506_0004_S.MP4: 576x1024 (no detections), 186.9ms\n",
      "video 1/1 (frame 25/93) e:\\Work\\zq\\202506\\YOLO-OBB\\src\\..\\data\\videos\\0-DJI_20230427182506_0004_S.MP4: 576x1024 (no detections), 182.0ms\n",
      "video 1/1 (frame 26/93) e:\\Work\\zq\\202506\\YOLO-OBB\\src\\..\\data\\videos\\0-DJI_20230427182506_0004_S.MP4: 576x1024 (no detections), 194.9ms\n",
      "video 1/1 (frame 27/93) e:\\Work\\zq\\202506\\YOLO-OBB\\src\\..\\data\\videos\\0-DJI_20230427182506_0004_S.MP4: 576x1024 (no detections), 199.0ms\n",
      "video 1/1 (frame 28/93) e:\\Work\\zq\\202506\\YOLO-OBB\\src\\..\\data\\videos\\0-DJI_20230427182506_0004_S.MP4: 576x1024 (no detections), 181.8ms\n",
      "video 1/1 (frame 29/93) e:\\Work\\zq\\202506\\YOLO-OBB\\src\\..\\data\\videos\\0-DJI_20230427182506_0004_S.MP4: 576x1024 (no detections), 191.8ms\n",
      "video 1/1 (frame 30/93) e:\\Work\\zq\\202506\\YOLO-OBB\\src\\..\\data\\videos\\0-DJI_20230427182506_0004_S.MP4: 576x1024 (no detections), 182.8ms\n",
      "video 1/1 (frame 31/93) e:\\Work\\zq\\202506\\YOLO-OBB\\src\\..\\data\\videos\\0-DJI_20230427182506_0004_S.MP4: 576x1024 (no detections), 169.1ms\n",
      "video 1/1 (frame 32/93) e:\\Work\\zq\\202506\\YOLO-OBB\\src\\..\\data\\videos\\0-DJI_20230427182506_0004_S.MP4: 576x1024 (no detections), 177.7ms\n",
      "video 1/1 (frame 33/93) e:\\Work\\zq\\202506\\YOLO-OBB\\src\\..\\data\\videos\\0-DJI_20230427182506_0004_S.MP4: 576x1024 (no detections), 175.6ms\n",
      "video 1/1 (frame 34/93) e:\\Work\\zq\\202506\\YOLO-OBB\\src\\..\\data\\videos\\0-DJI_20230427182506_0004_S.MP4: 576x1024 (no detections), 176.2ms\n",
      "video 1/1 (frame 35/93) e:\\Work\\zq\\202506\\YOLO-OBB\\src\\..\\data\\videos\\0-DJI_20230427182506_0004_S.MP4: 576x1024 (no detections), 178.5ms\n",
      "video 1/1 (frame 36/93) e:\\Work\\zq\\202506\\YOLO-OBB\\src\\..\\data\\videos\\0-DJI_20230427182506_0004_S.MP4: 576x1024 None175.8ms\n",
      "video 1/1 (frame 37/93) e:\\Work\\zq\\202506\\YOLO-OBB\\src\\..\\data\\videos\\0-DJI_20230427182506_0004_S.MP4: 576x1024 None175.0ms\n",
      "video 1/1 (frame 38/93) e:\\Work\\zq\\202506\\YOLO-OBB\\src\\..\\data\\videos\\0-DJI_20230427182506_0004_S.MP4: 576x1024 (no detections), 173.8ms\n",
      "video 1/1 (frame 39/93) e:\\Work\\zq\\202506\\YOLO-OBB\\src\\..\\data\\videos\\0-DJI_20230427182506_0004_S.MP4: 576x1024 (no detections), 210.3ms\n",
      "video 1/1 (frame 40/93) e:\\Work\\zq\\202506\\YOLO-OBB\\src\\..\\data\\videos\\0-DJI_20230427182506_0004_S.MP4: 576x1024 (no detections), 182.7ms\n",
      "video 1/1 (frame 41/93) e:\\Work\\zq\\202506\\YOLO-OBB\\src\\..\\data\\videos\\0-DJI_20230427182506_0004_S.MP4: 576x1024 (no detections), 173.4ms\n",
      "video 1/1 (frame 42/93) e:\\Work\\zq\\202506\\YOLO-OBB\\src\\..\\data\\videos\\0-DJI_20230427182506_0004_S.MP4: 576x1024 (no detections), 183.0ms\n",
      "video 1/1 (frame 43/93) e:\\Work\\zq\\202506\\YOLO-OBB\\src\\..\\data\\videos\\0-DJI_20230427182506_0004_S.MP4: 576x1024 (no detections), 172.4ms\n",
      "video 1/1 (frame 44/93) e:\\Work\\zq\\202506\\YOLO-OBB\\src\\..\\data\\videos\\0-DJI_20230427182506_0004_S.MP4: 576x1024 (no detections), 186.1ms\n",
      "video 1/1 (frame 45/93) e:\\Work\\zq\\202506\\YOLO-OBB\\src\\..\\data\\videos\\0-DJI_20230427182506_0004_S.MP4: 576x1024 (no detections), 174.8ms\n",
      "video 1/1 (frame 46/93) e:\\Work\\zq\\202506\\YOLO-OBB\\src\\..\\data\\videos\\0-DJI_20230427182506_0004_S.MP4: 576x1024 (no detections), 178.6ms\n",
      "video 1/1 (frame 47/93) e:\\Work\\zq\\202506\\YOLO-OBB\\src\\..\\data\\videos\\0-DJI_20230427182506_0004_S.MP4: 576x1024 (no detections), 179.8ms\n",
      "video 1/1 (frame 48/93) e:\\Work\\zq\\202506\\YOLO-OBB\\src\\..\\data\\videos\\0-DJI_20230427182506_0004_S.MP4: 576x1024 (no detections), 176.6ms\n",
      "video 1/1 (frame 49/93) e:\\Work\\zq\\202506\\YOLO-OBB\\src\\..\\data\\videos\\0-DJI_20230427182506_0004_S.MP4: 576x1024 (no detections), 176.3ms\n",
      "video 1/1 (frame 50/93) e:\\Work\\zq\\202506\\YOLO-OBB\\src\\..\\data\\videos\\0-DJI_20230427182506_0004_S.MP4: 576x1024 (no detections), 176.3ms\n",
      "video 1/1 (frame 51/93) e:\\Work\\zq\\202506\\YOLO-OBB\\src\\..\\data\\videos\\0-DJI_20230427182506_0004_S.MP4: 576x1024 (no detections), 175.0ms\n",
      "video 1/1 (frame 52/93) e:\\Work\\zq\\202506\\YOLO-OBB\\src\\..\\data\\videos\\0-DJI_20230427182506_0004_S.MP4: 576x1024 (no detections), 176.5ms\n",
      "video 1/1 (frame 53/93) e:\\Work\\zq\\202506\\YOLO-OBB\\src\\..\\data\\videos\\0-DJI_20230427182506_0004_S.MP4: 576x1024 (no detections), 176.5ms\n",
      "video 1/1 (frame 54/93) e:\\Work\\zq\\202506\\YOLO-OBB\\src\\..\\data\\videos\\0-DJI_20230427182506_0004_S.MP4: 576x1024 (no detections), 179.7ms\n",
      "video 1/1 (frame 55/93) e:\\Work\\zq\\202506\\YOLO-OBB\\src\\..\\data\\videos\\0-DJI_20230427182506_0004_S.MP4: 576x1024 (no detections), 169.6ms\n",
      "video 1/1 (frame 56/93) e:\\Work\\zq\\202506\\YOLO-OBB\\src\\..\\data\\videos\\0-DJI_20230427182506_0004_S.MP4: 576x1024 (no detections), 174.6ms\n",
      "video 1/1 (frame 57/93) e:\\Work\\zq\\202506\\YOLO-OBB\\src\\..\\data\\videos\\0-DJI_20230427182506_0004_S.MP4: 576x1024 (no detections), 187.4ms\n",
      "video 1/1 (frame 58/93) e:\\Work\\zq\\202506\\YOLO-OBB\\src\\..\\data\\videos\\0-DJI_20230427182506_0004_S.MP4: 576x1024 (no detections), 208.9ms\n",
      "video 1/1 (frame 59/93) e:\\Work\\zq\\202506\\YOLO-OBB\\src\\..\\data\\videos\\0-DJI_20230427182506_0004_S.MP4: 576x1024 (no detections), 207.1ms\n",
      "video 1/1 (frame 60/93) e:\\Work\\zq\\202506\\YOLO-OBB\\src\\..\\data\\videos\\0-DJI_20230427182506_0004_S.MP4: 576x1024 (no detections), 171.2ms\n",
      "video 1/1 (frame 61/93) e:\\Work\\zq\\202506\\YOLO-OBB\\src\\..\\data\\videos\\0-DJI_20230427182506_0004_S.MP4: 576x1024 (no detections), 170.4ms\n",
      "video 1/1 (frame 62/93) e:\\Work\\zq\\202506\\YOLO-OBB\\src\\..\\data\\videos\\0-DJI_20230427182506_0004_S.MP4: 576x1024 (no detections), 181.0ms\n",
      "video 1/1 (frame 63/93) e:\\Work\\zq\\202506\\YOLO-OBB\\src\\..\\data\\videos\\0-DJI_20230427182506_0004_S.MP4: 576x1024 (no detections), 169.0ms\n",
      "video 1/1 (frame 64/93) e:\\Work\\zq\\202506\\YOLO-OBB\\src\\..\\data\\videos\\0-DJI_20230427182506_0004_S.MP4: 576x1024 (no detections), 180.5ms\n",
      "video 1/1 (frame 65/93) e:\\Work\\zq\\202506\\YOLO-OBB\\src\\..\\data\\videos\\0-DJI_20230427182506_0004_S.MP4: 576x1024 (no detections), 172.4ms\n",
      "video 1/1 (frame 66/93) e:\\Work\\zq\\202506\\YOLO-OBB\\src\\..\\data\\videos\\0-DJI_20230427182506_0004_S.MP4: 576x1024 (no detections), 167.9ms\n",
      "video 1/1 (frame 67/93) e:\\Work\\zq\\202506\\YOLO-OBB\\src\\..\\data\\videos\\0-DJI_20230427182506_0004_S.MP4: 576x1024 (no detections), 177.0ms\n",
      "video 1/1 (frame 68/93) e:\\Work\\zq\\202506\\YOLO-OBB\\src\\..\\data\\videos\\0-DJI_20230427182506_0004_S.MP4: 576x1024 (no detections), 172.3ms\n",
      "video 1/1 (frame 69/93) e:\\Work\\zq\\202506\\YOLO-OBB\\src\\..\\data\\videos\\0-DJI_20230427182506_0004_S.MP4: 576x1024 (no detections), 177.8ms\n",
      "video 1/1 (frame 70/93) e:\\Work\\zq\\202506\\YOLO-OBB\\src\\..\\data\\videos\\0-DJI_20230427182506_0004_S.MP4: 576x1024 (no detections), 180.1ms\n",
      "video 1/1 (frame 71/93) e:\\Work\\zq\\202506\\YOLO-OBB\\src\\..\\data\\videos\\0-DJI_20230427182506_0004_S.MP4: 576x1024 (no detections), 178.6ms\n",
      "video 1/1 (frame 72/93) e:\\Work\\zq\\202506\\YOLO-OBB\\src\\..\\data\\videos\\0-DJI_20230427182506_0004_S.MP4: 576x1024 (no detections), 175.5ms\n",
      "video 1/1 (frame 73/93) e:\\Work\\zq\\202506\\YOLO-OBB\\src\\..\\data\\videos\\0-DJI_20230427182506_0004_S.MP4: 576x1024 (no detections), 183.6ms\n",
      "video 1/1 (frame 74/93) e:\\Work\\zq\\202506\\YOLO-OBB\\src\\..\\data\\videos\\0-DJI_20230427182506_0004_S.MP4: 576x1024 (no detections), 182.3ms\n",
      "video 1/1 (frame 75/93) e:\\Work\\zq\\202506\\YOLO-OBB\\src\\..\\data\\videos\\0-DJI_20230427182506_0004_S.MP4: 576x1024 (no detections), 179.0ms\n",
      "video 1/1 (frame 76/93) e:\\Work\\zq\\202506\\YOLO-OBB\\src\\..\\data\\videos\\0-DJI_20230427182506_0004_S.MP4: 576x1024 (no detections), 190.0ms\n",
      "video 1/1 (frame 77/93) e:\\Work\\zq\\202506\\YOLO-OBB\\src\\..\\data\\videos\\0-DJI_20230427182506_0004_S.MP4: 576x1024 None193.4ms\n",
      "video 1/1 (frame 78/93) e:\\Work\\zq\\202506\\YOLO-OBB\\src\\..\\data\\videos\\0-DJI_20230427182506_0004_S.MP4: 576x1024 (no detections), 267.8ms\n",
      "video 1/1 (frame 79/93) e:\\Work\\zq\\202506\\YOLO-OBB\\src\\..\\data\\videos\\0-DJI_20230427182506_0004_S.MP4: 576x1024 (no detections), 189.4ms\n",
      "video 1/1 (frame 80/93) e:\\Work\\zq\\202506\\YOLO-OBB\\src\\..\\data\\videos\\0-DJI_20230427182506_0004_S.MP4: 576x1024 (no detections), 177.0ms\n",
      "video 1/1 (frame 81/93) e:\\Work\\zq\\202506\\YOLO-OBB\\src\\..\\data\\videos\\0-DJI_20230427182506_0004_S.MP4: 576x1024 None305.0ms\n",
      "video 1/1 (frame 82/93) e:\\Work\\zq\\202506\\YOLO-OBB\\src\\..\\data\\videos\\0-DJI_20230427182506_0004_S.MP4: 576x1024 (no detections), 174.1ms\n",
      "video 1/1 (frame 83/93) e:\\Work\\zq\\202506\\YOLO-OBB\\src\\..\\data\\videos\\0-DJI_20230427182506_0004_S.MP4: 576x1024 (no detections), 172.2ms\n",
      "video 1/1 (frame 84/93) e:\\Work\\zq\\202506\\YOLO-OBB\\src\\..\\data\\videos\\0-DJI_20230427182506_0004_S.MP4: 576x1024 (no detections), 175.5ms\n",
      "video 1/1 (frame 85/93) e:\\Work\\zq\\202506\\YOLO-OBB\\src\\..\\data\\videos\\0-DJI_20230427182506_0004_S.MP4: 576x1024 (no detections), 173.9ms\n",
      "video 1/1 (frame 86/93) e:\\Work\\zq\\202506\\YOLO-OBB\\src\\..\\data\\videos\\0-DJI_20230427182506_0004_S.MP4: 576x1024 (no detections), 177.7ms\n",
      "video 1/1 (frame 87/93) e:\\Work\\zq\\202506\\YOLO-OBB\\src\\..\\data\\videos\\0-DJI_20230427182506_0004_S.MP4: 576x1024 (no detections), 190.0ms\n",
      "video 1/1 (frame 88/93) e:\\Work\\zq\\202506\\YOLO-OBB\\src\\..\\data\\videos\\0-DJI_20230427182506_0004_S.MP4: 576x1024 (no detections), 174.2ms\n",
      "video 1/1 (frame 89/93) e:\\Work\\zq\\202506\\YOLO-OBB\\src\\..\\data\\videos\\0-DJI_20230427182506_0004_S.MP4: 576x1024 (no detections), 181.3ms\n",
      "video 1/1 (frame 90/93) e:\\Work\\zq\\202506\\YOLO-OBB\\src\\..\\data\\videos\\0-DJI_20230427182506_0004_S.MP4: 576x1024 (no detections), 178.1ms\n",
      "video 1/1 (frame 91/93) e:\\Work\\zq\\202506\\YOLO-OBB\\src\\..\\data\\videos\\0-DJI_20230427182506_0004_S.MP4: 576x1024 (no detections), 173.1ms\n",
      "video 1/1 (frame 92/93) e:\\Work\\zq\\202506\\YOLO-OBB\\src\\..\\data\\videos\\0-DJI_20230427182506_0004_S.MP4: 576x1024 (no detections), 181.3ms\n",
      "video 1/1 (frame 93/93) e:\\Work\\zq\\202506\\YOLO-OBB\\src\\..\\data\\videos\\0-DJI_20230427182506_0004_S.MP4: 576x1024 (no detections), 164.7ms\n",
      "Speed: 14.3ms preprocess, 186.0ms inference, 1.3ms postprocess per image at shape (1, 3, 576, 1024)\n",
      "Results saved to \u001b[1mruns\\obb\\predict2\u001b[0m\n",
      "4 labels saved to runs\\obb\\predict2\\labels\n"
     ]
    }
   ],
   "source": [
    "from ultralytics import YOLO\n",
    "\n",
    "MODEL_FILE = \"runs/obb/train4/weights/best.pt\"  \n",
    "VIDEO_FILE = \"../data/videos/0-DJI_20230427182506_0004_S.MP4\"\n",
    "\n",
    "try:\n",
    "    # Load a model\n",
    "    model = YOLO(MODEL_FILE)   \n",
    "    results = model(VIDEO_FILE,\n",
    "        #imgsz=1920,\n",
    "        vid_stride=60,  # 每60帧处理1帧\n",
    "        save=True,\n",
    "        save_txt=True,    # 保存检测框坐标到txt文件\n",
    "        save_conf=True,   # 在txt中包含置信度 \n",
    "        )\n",
    "except Exception as e: \n",
    "    print(f\"[YOLO] error:{traceback.format_exc()} \\n {e}\") \n",
    "\n",
    " "
   ]
  },
  {
   "cell_type": "markdown",
   "id": "7e112528",
   "metadata": {},
   "source": [
    "## YOLO obb跟踪预测\n",
    "\n",
    "作用：在检测的基础上，对视频中的目标进行“身份分配”和“轨迹跟踪”，即为每个目标分配一个ID，追踪其在视频中的运动轨迹。\n",
    "\n",
    "结果：输出不仅有检测框、类别、置信度，还会有目标ID，能知道同一个目标在不同帧中的位置变化。\n",
    "\n",
    "适用场景：需要分析目标的运动轨迹、计数、行为分析等，如行人跟踪、车辆跟踪等。\n"
   ]
  },
  {
   "cell_type": "code",
   "execution_count": 5,
   "id": "3b8e6f46",
   "metadata": {},
   "outputs": [
    {
     "name": "stdout",
     "output_type": "stream",
     "text": [
      "\u001b[31m\u001b[1mrequirements:\u001b[0m Ultralytics requirement ['lap>=0.5.12'] not found, attempting AutoUpdate...\n",
      "\n",
      "\u001b[31m\u001b[1mrequirements:\u001b[0m AutoUpdate success  11.5s\n",
      "WARNING \u001b[31m\u001b[1mrequirements:\u001b[0m \u001b[1mRestart runtime or rerun command for updates to take effect\u001b[0m\n",
      "\n",
      "\n",
      "WARNING \n",
      "inference results will accumulate in RAM unless `stream=True` is passed, causing potential out-of-memory\n",
      "errors for large sources or long-running streams and videos. See https://docs.ultralytics.com/modes/predict/ for help.\n",
      "\n",
      "Example:\n",
      "    results = model(source=..., stream=True)  # generator of Results objects\n",
      "    for r in results:\n",
      "        boxes = r.boxes  # Boxes object for bbox outputs\n",
      "        masks = r.masks  # Masks object for segment masks outputs\n",
      "        probs = r.probs  # Class probabilities for classification outputs\n",
      "\n",
      "video 1/1 (frame 1/93) e:\\Work\\zq\\202506\\YOLO-OBB\\src\\..\\data\\videos\\0-DJI_20230427182506_0004_S.MP4: 576x1024 (no detections), 303.0ms\n",
      "video 1/1 (frame 2/93) e:\\Work\\zq\\202506\\YOLO-OBB\\src\\..\\data\\videos\\0-DJI_20230427182506_0004_S.MP4: 576x1024 (no detections), 320.8ms\n",
      "video 1/1 (frame 3/93) e:\\Work\\zq\\202506\\YOLO-OBB\\src\\..\\data\\videos\\0-DJI_20230427182506_0004_S.MP4: 576x1024 (no detections), 193.4ms\n",
      "video 1/1 (frame 4/93) e:\\Work\\zq\\202506\\YOLO-OBB\\src\\..\\data\\videos\\0-DJI_20230427182506_0004_S.MP4: 576x1024 (no detections), 179.6ms\n",
      "video 1/1 (frame 5/93) e:\\Work\\zq\\202506\\YOLO-OBB\\src\\..\\data\\videos\\0-DJI_20230427182506_0004_S.MP4: 576x1024 (no detections), 174.7ms\n",
      "video 1/1 (frame 6/93) e:\\Work\\zq\\202506\\YOLO-OBB\\src\\..\\data\\videos\\0-DJI_20230427182506_0004_S.MP4: 576x1024 (no detections), 172.9ms\n",
      "video 1/1 (frame 7/93) e:\\Work\\zq\\202506\\YOLO-OBB\\src\\..\\data\\videos\\0-DJI_20230427182506_0004_S.MP4: 576x1024 (no detections), 173.0ms\n",
      "video 1/1 (frame 8/93) e:\\Work\\zq\\202506\\YOLO-OBB\\src\\..\\data\\videos\\0-DJI_20230427182506_0004_S.MP4: 576x1024 (no detections), 226.5ms\n",
      "video 1/1 (frame 9/93) e:\\Work\\zq\\202506\\YOLO-OBB\\src\\..\\data\\videos\\0-DJI_20230427182506_0004_S.MP4: 576x1024 (no detections), 184.3ms\n",
      "video 1/1 (frame 10/93) e:\\Work\\zq\\202506\\YOLO-OBB\\src\\..\\data\\videos\\0-DJI_20230427182506_0004_S.MP4: 576x1024 (no detections), 177.9ms\n",
      "video 1/1 (frame 11/93) e:\\Work\\zq\\202506\\YOLO-OBB\\src\\..\\data\\videos\\0-DJI_20230427182506_0004_S.MP4: 576x1024 (no detections), 177.4ms\n",
      "video 1/1 (frame 12/93) e:\\Work\\zq\\202506\\YOLO-OBB\\src\\..\\data\\videos\\0-DJI_20230427182506_0004_S.MP4: 576x1024 (no detections), 179.4ms\n",
      "video 1/1 (frame 13/93) e:\\Work\\zq\\202506\\YOLO-OBB\\src\\..\\data\\videos\\0-DJI_20230427182506_0004_S.MP4: 576x1024 (no detections), 181.8ms\n",
      "video 1/1 (frame 14/93) e:\\Work\\zq\\202506\\YOLO-OBB\\src\\..\\data\\videos\\0-DJI_20230427182506_0004_S.MP4: 576x1024 (no detections), 172.4ms\n",
      "video 1/1 (frame 15/93) e:\\Work\\zq\\202506\\YOLO-OBB\\src\\..\\data\\videos\\0-DJI_20230427182506_0004_S.MP4: 576x1024 (no detections), 189.5ms\n",
      "video 1/1 (frame 16/93) e:\\Work\\zq\\202506\\YOLO-OBB\\src\\..\\data\\videos\\0-DJI_20230427182506_0004_S.MP4: 576x1024 (no detections), 203.8ms\n",
      "video 1/1 (frame 17/93) e:\\Work\\zq\\202506\\YOLO-OBB\\src\\..\\data\\videos\\0-DJI_20230427182506_0004_S.MP4: 576x1024 (no detections), 176.2ms\n",
      "video 1/1 (frame 18/93) e:\\Work\\zq\\202506\\YOLO-OBB\\src\\..\\data\\videos\\0-DJI_20230427182506_0004_S.MP4: 576x1024 (no detections), 176.6ms\n",
      "video 1/1 (frame 19/93) e:\\Work\\zq\\202506\\YOLO-OBB\\src\\..\\data\\videos\\0-DJI_20230427182506_0004_S.MP4: 576x1024 (no detections), 177.3ms\n",
      "video 1/1 (frame 20/93) e:\\Work\\zq\\202506\\YOLO-OBB\\src\\..\\data\\videos\\0-DJI_20230427182506_0004_S.MP4: 576x1024 (no detections), 172.7ms\n",
      "video 1/1 (frame 21/93) e:\\Work\\zq\\202506\\YOLO-OBB\\src\\..\\data\\videos\\0-DJI_20230427182506_0004_S.MP4: 576x1024 (no detections), 170.6ms\n",
      "video 1/1 (frame 22/93) e:\\Work\\zq\\202506\\YOLO-OBB\\src\\..\\data\\videos\\0-DJI_20230427182506_0004_S.MP4: 576x1024 (no detections), 181.9ms\n",
      "video 1/1 (frame 23/93) e:\\Work\\zq\\202506\\YOLO-OBB\\src\\..\\data\\videos\\0-DJI_20230427182506_0004_S.MP4: 576x1024 (no detections), 178.2ms\n",
      "video 1/1 (frame 24/93) e:\\Work\\zq\\202506\\YOLO-OBB\\src\\..\\data\\videos\\0-DJI_20230427182506_0004_S.MP4: 576x1024 (no detections), 181.1ms\n",
      "video 1/1 (frame 25/93) e:\\Work\\zq\\202506\\YOLO-OBB\\src\\..\\data\\videos\\0-DJI_20230427182506_0004_S.MP4: 576x1024 (no detections), 171.5ms\n",
      "video 1/1 (frame 26/93) e:\\Work\\zq\\202506\\YOLO-OBB\\src\\..\\data\\videos\\0-DJI_20230427182506_0004_S.MP4: 576x1024 (no detections), 179.0ms\n",
      "video 1/1 (frame 27/93) e:\\Work\\zq\\202506\\YOLO-OBB\\src\\..\\data\\videos\\0-DJI_20230427182506_0004_S.MP4: 576x1024 (no detections), 182.5ms\n",
      "video 1/1 (frame 28/93) e:\\Work\\zq\\202506\\YOLO-OBB\\src\\..\\data\\videos\\0-DJI_20230427182506_0004_S.MP4: 576x1024 (no detections), 180.0ms\n",
      "video 1/1 (frame 29/93) e:\\Work\\zq\\202506\\YOLO-OBB\\src\\..\\data\\videos\\0-DJI_20230427182506_0004_S.MP4: 576x1024 (no detections), 180.0ms\n",
      "video 1/1 (frame 30/93) e:\\Work\\zq\\202506\\YOLO-OBB\\src\\..\\data\\videos\\0-DJI_20230427182506_0004_S.MP4: 576x1024 (no detections), 179.5ms\n",
      "video 1/1 (frame 31/93) e:\\Work\\zq\\202506\\YOLO-OBB\\src\\..\\data\\videos\\0-DJI_20230427182506_0004_S.MP4: 576x1024 (no detections), 182.6ms\n",
      "video 1/1 (frame 32/93) e:\\Work\\zq\\202506\\YOLO-OBB\\src\\..\\data\\videos\\0-DJI_20230427182506_0004_S.MP4: 576x1024 None182.5ms\n",
      "video 1/1 (frame 33/93) e:\\Work\\zq\\202506\\YOLO-OBB\\src\\..\\data\\videos\\0-DJI_20230427182506_0004_S.MP4: 576x1024 None180.2ms\n",
      "video 1/1 (frame 34/93) e:\\Work\\zq\\202506\\YOLO-OBB\\src\\..\\data\\videos\\0-DJI_20230427182506_0004_S.MP4: 576x1024 None181.2ms\n",
      "video 1/1 (frame 35/93) e:\\Work\\zq\\202506\\YOLO-OBB\\src\\..\\data\\videos\\0-DJI_20230427182506_0004_S.MP4: 576x1024 None191.1ms\n",
      "video 1/1 (frame 36/93) e:\\Work\\zq\\202506\\YOLO-OBB\\src\\..\\data\\videos\\0-DJI_20230427182506_0004_S.MP4: 576x1024 None174.6ms\n",
      "video 1/1 (frame 37/93) e:\\Work\\zq\\202506\\YOLO-OBB\\src\\..\\data\\videos\\0-DJI_20230427182506_0004_S.MP4: 576x1024 None175.3ms\n",
      "video 1/1 (frame 38/93) e:\\Work\\zq\\202506\\YOLO-OBB\\src\\..\\data\\videos\\0-DJI_20230427182506_0004_S.MP4: 576x1024 (no detections), 173.9ms\n",
      "video 1/1 (frame 39/93) e:\\Work\\zq\\202506\\YOLO-OBB\\src\\..\\data\\videos\\0-DJI_20230427182506_0004_S.MP4: 576x1024 (no detections), 184.4ms\n",
      "video 1/1 (frame 40/93) e:\\Work\\zq\\202506\\YOLO-OBB\\src\\..\\data\\videos\\0-DJI_20230427182506_0004_S.MP4: 576x1024 None187.6ms\n",
      "video 1/1 (frame 41/93) e:\\Work\\zq\\202506\\YOLO-OBB\\src\\..\\data\\videos\\0-DJI_20230427182506_0004_S.MP4: 576x1024 (no detections), 179.3ms\n",
      "video 1/1 (frame 42/93) e:\\Work\\zq\\202506\\YOLO-OBB\\src\\..\\data\\videos\\0-DJI_20230427182506_0004_S.MP4: 576x1024 (no detections), 177.6ms\n",
      "video 1/1 (frame 43/93) e:\\Work\\zq\\202506\\YOLO-OBB\\src\\..\\data\\videos\\0-DJI_20230427182506_0004_S.MP4: 576x1024 (no detections), 179.8ms\n",
      "video 1/1 (frame 44/93) e:\\Work\\zq\\202506\\YOLO-OBB\\src\\..\\data\\videos\\0-DJI_20230427182506_0004_S.MP4: 576x1024 None229.3ms\n",
      "video 1/1 (frame 45/93) e:\\Work\\zq\\202506\\YOLO-OBB\\src\\..\\data\\videos\\0-DJI_20230427182506_0004_S.MP4: 576x1024 (no detections), 270.9ms\n",
      "video 1/1 (frame 46/93) e:\\Work\\zq\\202506\\YOLO-OBB\\src\\..\\data\\videos\\0-DJI_20230427182506_0004_S.MP4: 576x1024 (no detections), 183.3ms\n",
      "video 1/1 (frame 47/93) e:\\Work\\zq\\202506\\YOLO-OBB\\src\\..\\data\\videos\\0-DJI_20230427182506_0004_S.MP4: 576x1024 (no detections), 177.1ms\n",
      "video 1/1 (frame 48/93) e:\\Work\\zq\\202506\\YOLO-OBB\\src\\..\\data\\videos\\0-DJI_20230427182506_0004_S.MP4: 576x1024 (no detections), 183.8ms\n",
      "video 1/1 (frame 49/93) e:\\Work\\zq\\202506\\YOLO-OBB\\src\\..\\data\\videos\\0-DJI_20230427182506_0004_S.MP4: 576x1024 (no detections), 183.7ms\n",
      "video 1/1 (frame 50/93) e:\\Work\\zq\\202506\\YOLO-OBB\\src\\..\\data\\videos\\0-DJI_20230427182506_0004_S.MP4: 576x1024 (no detections), 178.2ms\n",
      "video 1/1 (frame 51/93) e:\\Work\\zq\\202506\\YOLO-OBB\\src\\..\\data\\videos\\0-DJI_20230427182506_0004_S.MP4: 576x1024 (no detections), 179.7ms\n",
      "video 1/1 (frame 52/93) e:\\Work\\zq\\202506\\YOLO-OBB\\src\\..\\data\\videos\\0-DJI_20230427182506_0004_S.MP4: 576x1024 (no detections), 333.1ms\n",
      "video 1/1 (frame 53/93) e:\\Work\\zq\\202506\\YOLO-OBB\\src\\..\\data\\videos\\0-DJI_20230427182506_0004_S.MP4: 576x1024 (no detections), 177.8ms\n",
      "video 1/1 (frame 54/93) e:\\Work\\zq\\202506\\YOLO-OBB\\src\\..\\data\\videos\\0-DJI_20230427182506_0004_S.MP4: 576x1024 (no detections), 191.3ms\n",
      "video 1/1 (frame 55/93) e:\\Work\\zq\\202506\\YOLO-OBB\\src\\..\\data\\videos\\0-DJI_20230427182506_0004_S.MP4: 576x1024 (no detections), 187.3ms\n",
      "video 1/1 (frame 56/93) e:\\Work\\zq\\202506\\YOLO-OBB\\src\\..\\data\\videos\\0-DJI_20230427182506_0004_S.MP4: 576x1024 (no detections), 179.2ms\n",
      "video 1/1 (frame 57/93) e:\\Work\\zq\\202506\\YOLO-OBB\\src\\..\\data\\videos\\0-DJI_20230427182506_0004_S.MP4: 576x1024 (no detections), 190.4ms\n",
      "video 1/1 (frame 58/93) e:\\Work\\zq\\202506\\YOLO-OBB\\src\\..\\data\\videos\\0-DJI_20230427182506_0004_S.MP4: 576x1024 (no detections), 198.3ms\n",
      "video 1/1 (frame 59/93) e:\\Work\\zq\\202506\\YOLO-OBB\\src\\..\\data\\videos\\0-DJI_20230427182506_0004_S.MP4: 576x1024 (no detections), 240.8ms\n",
      "video 1/1 (frame 60/93) e:\\Work\\zq\\202506\\YOLO-OBB\\src\\..\\data\\videos\\0-DJI_20230427182506_0004_S.MP4: 576x1024 (no detections), 209.2ms\n",
      "video 1/1 (frame 61/93) e:\\Work\\zq\\202506\\YOLO-OBB\\src\\..\\data\\videos\\0-DJI_20230427182506_0004_S.MP4: 576x1024 (no detections), 279.3ms\n",
      "video 1/1 (frame 62/93) e:\\Work\\zq\\202506\\YOLO-OBB\\src\\..\\data\\videos\\0-DJI_20230427182506_0004_S.MP4: 576x1024 (no detections), 212.8ms\n",
      "video 1/1 (frame 63/93) e:\\Work\\zq\\202506\\YOLO-OBB\\src\\..\\data\\videos\\0-DJI_20230427182506_0004_S.MP4: 576x1024 (no detections), 181.6ms\n",
      "video 1/1 (frame 64/93) e:\\Work\\zq\\202506\\YOLO-OBB\\src\\..\\data\\videos\\0-DJI_20230427182506_0004_S.MP4: 576x1024 (no detections), 182.5ms\n",
      "video 1/1 (frame 65/93) e:\\Work\\zq\\202506\\YOLO-OBB\\src\\..\\data\\videos\\0-DJI_20230427182506_0004_S.MP4: 576x1024 None190.8ms\n",
      "video 1/1 (frame 66/93) e:\\Work\\zq\\202506\\YOLO-OBB\\src\\..\\data\\videos\\0-DJI_20230427182506_0004_S.MP4: 576x1024 (no detections), 189.3ms\n",
      "video 1/1 (frame 67/93) e:\\Work\\zq\\202506\\YOLO-OBB\\src\\..\\data\\videos\\0-DJI_20230427182506_0004_S.MP4: 576x1024 None403.8ms\n",
      "video 1/1 (frame 68/93) e:\\Work\\zq\\202506\\YOLO-OBB\\src\\..\\data\\videos\\0-DJI_20230427182506_0004_S.MP4: 576x1024 (no detections), 188.9ms\n",
      "video 1/1 (frame 69/93) e:\\Work\\zq\\202506\\YOLO-OBB\\src\\..\\data\\videos\\0-DJI_20230427182506_0004_S.MP4: 576x1024 (no detections), 181.3ms\n",
      "video 1/1 (frame 70/93) e:\\Work\\zq\\202506\\YOLO-OBB\\src\\..\\data\\videos\\0-DJI_20230427182506_0004_S.MP4: 576x1024 (no detections), 178.1ms\n",
      "video 1/1 (frame 71/93) e:\\Work\\zq\\202506\\YOLO-OBB\\src\\..\\data\\videos\\0-DJI_20230427182506_0004_S.MP4: 576x1024 (no detections), 180.6ms\n",
      "video 1/1 (frame 72/93) e:\\Work\\zq\\202506\\YOLO-OBB\\src\\..\\data\\videos\\0-DJI_20230427182506_0004_S.MP4: 576x1024 (no detections), 189.7ms\n",
      "video 1/1 (frame 73/93) e:\\Work\\zq\\202506\\YOLO-OBB\\src\\..\\data\\videos\\0-DJI_20230427182506_0004_S.MP4: 576x1024 (no detections), 189.5ms\n",
      "video 1/1 (frame 74/93) e:\\Work\\zq\\202506\\YOLO-OBB\\src\\..\\data\\videos\\0-DJI_20230427182506_0004_S.MP4: 576x1024 (no detections), 178.8ms\n",
      "video 1/1 (frame 75/93) e:\\Work\\zq\\202506\\YOLO-OBB\\src\\..\\data\\videos\\0-DJI_20230427182506_0004_S.MP4: 576x1024 None210.7ms\n",
      "video 1/1 (frame 76/93) e:\\Work\\zq\\202506\\YOLO-OBB\\src\\..\\data\\videos\\0-DJI_20230427182506_0004_S.MP4: 576x1024 (no detections), 189.4ms\n",
      "video 1/1 (frame 77/93) e:\\Work\\zq\\202506\\YOLO-OBB\\src\\..\\data\\videos\\0-DJI_20230427182506_0004_S.MP4: 576x1024 None182.0ms\n",
      "video 1/1 (frame 78/93) e:\\Work\\zq\\202506\\YOLO-OBB\\src\\..\\data\\videos\\0-DJI_20230427182506_0004_S.MP4: 576x1024 (no detections), 185.8ms\n",
      "video 1/1 (frame 79/93) e:\\Work\\zq\\202506\\YOLO-OBB\\src\\..\\data\\videos\\0-DJI_20230427182506_0004_S.MP4: 576x1024 (no detections), 196.9ms\n",
      "video 1/1 (frame 80/93) e:\\Work\\zq\\202506\\YOLO-OBB\\src\\..\\data\\videos\\0-DJI_20230427182506_0004_S.MP4: 576x1024 None180.2ms\n",
      "video 1/1 (frame 81/93) e:\\Work\\zq\\202506\\YOLO-OBB\\src\\..\\data\\videos\\0-DJI_20230427182506_0004_S.MP4: 576x1024 None185.5ms\n",
      "video 1/1 (frame 82/93) e:\\Work\\zq\\202506\\YOLO-OBB\\src\\..\\data\\videos\\0-DJI_20230427182506_0004_S.MP4: 576x1024 None188.3ms\n",
      "video 1/1 (frame 83/93) e:\\Work\\zq\\202506\\YOLO-OBB\\src\\..\\data\\videos\\0-DJI_20230427182506_0004_S.MP4: 576x1024 (no detections), 266.0ms\n",
      "video 1/1 (frame 84/93) e:\\Work\\zq\\202506\\YOLO-OBB\\src\\..\\data\\videos\\0-DJI_20230427182506_0004_S.MP4: 576x1024 (no detections), 179.6ms\n",
      "video 1/1 (frame 85/93) e:\\Work\\zq\\202506\\YOLO-OBB\\src\\..\\data\\videos\\0-DJI_20230427182506_0004_S.MP4: 576x1024 (no detections), 183.7ms\n",
      "video 1/1 (frame 86/93) e:\\Work\\zq\\202506\\YOLO-OBB\\src\\..\\data\\videos\\0-DJI_20230427182506_0004_S.MP4: 576x1024 (no detections), 179.6ms\n",
      "video 1/1 (frame 87/93) e:\\Work\\zq\\202506\\YOLO-OBB\\src\\..\\data\\videos\\0-DJI_20230427182506_0004_S.MP4: 576x1024 (no detections), 178.8ms\n",
      "video 1/1 (frame 88/93) e:\\Work\\zq\\202506\\YOLO-OBB\\src\\..\\data\\videos\\0-DJI_20230427182506_0004_S.MP4: 576x1024 (no detections), 186.5ms\n",
      "video 1/1 (frame 89/93) e:\\Work\\zq\\202506\\YOLO-OBB\\src\\..\\data\\videos\\0-DJI_20230427182506_0004_S.MP4: 576x1024 (no detections), 194.3ms\n",
      "video 1/1 (frame 90/93) e:\\Work\\zq\\202506\\YOLO-OBB\\src\\..\\data\\videos\\0-DJI_20230427182506_0004_S.MP4: 576x1024 None177.6ms\n",
      "video 1/1 (frame 91/93) e:\\Work\\zq\\202506\\YOLO-OBB\\src\\..\\data\\videos\\0-DJI_20230427182506_0004_S.MP4: 576x1024 None228.7ms\n",
      "video 1/1 (frame 92/93) e:\\Work\\zq\\202506\\YOLO-OBB\\src\\..\\data\\videos\\0-DJI_20230427182506_0004_S.MP4: 576x1024 None195.4ms\n",
      "video 1/1 (frame 93/93) e:\\Work\\zq\\202506\\YOLO-OBB\\src\\..\\data\\videos\\0-DJI_20230427182506_0004_S.MP4: 576x1024 (no detections), 170.7ms\n",
      "Speed: 12.9ms preprocess, 194.9ms inference, 1.5ms postprocess per image at shape (1, 3, 576, 1024)\n",
      "Results saved to \u001b[1mruns\\obb\\track\u001b[0m\n",
      "18 labels saved to runs\\obb\\track\\labels\n"
     ]
    }
   ],
   "source": [
    "from ultralytics import YOLO\n",
    "\n",
    "MODEL_FILE = \"runs/obb/train4/weights/best.pt\"  \n",
    "VIDEO_FILE = \"../data/videos/0-DJI_20230427182506_0004_S.MP4\"\n",
    "\n",
    "try:\n",
    "    # Load a model\n",
    "    model = YOLO(MODEL_FILE)   \n",
    "    results = model.track(VIDEO_FILE,\n",
    "        #imgsz=1920,\n",
    "        vid_stride=60,  # 每60帧处理1帧\n",
    "        save=True,\n",
    "        save_txt=True,    # 保存检测框坐标到txt文件\n",
    "        save_conf=True,   # 在txt中包含置信度 \n",
    "        )\n",
    "except Exception as e: \n",
    "    print(f\"[YOLO] error:{traceback.format_exc()} \\n {e}\") \n",
    "\n",
    " "
   ]
  }
 ],
 "metadata": {
  "kernelspec": {
   "display_name": "Python 3",
   "language": "python",
   "name": "python3"
  },
  "language_info": {
   "codemirror_mode": {
    "name": "ipython",
    "version": 3
   },
   "file_extension": ".py",
   "mimetype": "text/x-python",
   "name": "python",
   "nbconvert_exporter": "python",
   "pygments_lexer": "ipython3",
   "version": "3.12.7"
  }
 },
 "nbformat": 4,
 "nbformat_minor": 5
}
